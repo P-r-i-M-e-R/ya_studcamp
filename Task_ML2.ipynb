{
 "cells": [
  {
   "cell_type": "code",
   "execution_count": 1,
   "id": "8df9430a-9fc5-4cbf-8e19-933ff47b24b7",
   "metadata": {},
   "outputs": [],
   "source": [
    "import pandas as pd\n",
    "import numpy as np\n",
    "from scipy.interpolate import griddata\n",
    "from sklearn.metrics import r2_score"
   ]
  },
  {
   "cell_type": "code",
   "execution_count": 2,
   "id": "4ee3a1bd-a9bc-4b4e-b2d4-e4e341a42f1e",
   "metadata": {},
   "outputs": [],
   "source": [
    "train_data = pd.read_csv('field_train.csv')\n",
    "prediction_data = pd.read_csv('field_example.csv')"
   ]
  },
  {
   "cell_type": "code",
   "execution_count": 3,
   "id": "f07aee59-0dbe-43c1-978f-19be69c95193",
   "metadata": {},
   "outputs": [],
   "source": [
    "coords_train = train_data[['longitude', 'latitude']].values\n",
    "values_train = train_data['intensity'].values\n",
    "\n",
    "coords_pred = prediction_data[['longitude', 'latitude']].values"
   ]
  },
  {
   "cell_type": "code",
   "execution_count": 4,
   "id": "08b7d8ba-b919-49bd-9d89-052e8b098959",
   "metadata": {},
   "outputs": [],
   "source": [
    "predicted_values = griddata(coords_train, values_train, coords_pred, method='linear')\n",
    "missing_values = np.isnan(predicted_values)\n",
    "predicted_values[missing_values] = griddata(coords_train, values_train, coords_pred[missing_values], method='nearest')"
   ]
  },
  {
   "cell_type": "code",
   "execution_count": 5,
   "id": "e862d375-78f3-46f5-88ac-6a9fe97cf1aa",
   "metadata": {},
   "outputs": [
    {
     "name": "stdout",
     "output_type": "stream",
     "text": [
      "train_r2: 1.0\n"
     ]
    }
   ],
   "source": [
    "prediction_data['intensity'] = predicted_values\n",
    "\n",
    "train_predicted = griddata(coords_train, values_train, coords_train, method='linear')\n",
    "missing_train = np.isnan(train_predicted)\n",
    "train_predicted[missing_train] = griddata(coords_train, values_train, coords_train[missing_train], method='nearest')\n",
    "train_r2 = r2_score(values_train, train_predicted)\n",
    "print(f'train_r2: {train_r2}')"
   ]
  },
  {
   "cell_type": "code",
   "execution_count": 6,
   "id": "7c4627d0-6bbb-45ce-a6db-0f754e21af20",
   "metadata": {},
   "outputs": [
    {
     "name": "stdout",
     "output_type": "stream",
     "text": [
      "test_r2: -0.5682691699992022\n"
     ]
    }
   ],
   "source": [
    "true_values = pd.read_csv('field_example.csv')\n",
    "test_r2 = r2_score(true_values['intensity'].values, prediction_data['intensity'].values)\n",
    "print(f'test_r2: {test_r2}')"
   ]
  },
  {
   "cell_type": "code",
   "execution_count": 7,
   "id": "6a1342b7-5eee-4068-b747-1d3c11504f84",
   "metadata": {},
   "outputs": [],
   "source": [
    "prediction_data[['latitude', 'longitude', 'intensity']].to_csv('answers.csv', index=False)"
   ]
  }
 ],
 "metadata": {
  "kernelspec": {
   "display_name": "Python 3 (ipykernel)",
   "language": "python",
   "name": "python3"
  },
  "language_info": {
   "codemirror_mode": {
    "name": "ipython",
    "version": 3
   },
   "file_extension": ".py",
   "mimetype": "text/x-python",
   "name": "python",
   "nbconvert_exporter": "python",
   "pygments_lexer": "ipython3",
   "version": "3.12.4"
  }
 },
 "nbformat": 4,
 "nbformat_minor": 5
}
